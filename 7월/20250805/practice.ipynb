{
 "cells": [
  {
   "cell_type": "markdown",
   "id": "eda0c23e",
   "metadata": {},
   "source": [
    "# 환경 설정"
   ]
  },
  {
   "cell_type": "code",
   "execution_count": 1,
   "id": "defa9070",
   "metadata": {},
   "outputs": [
    {
     "data": {
      "text/plain": [
       "True"
      ]
     },
     "execution_count": 1,
     "metadata": {},
     "output_type": "execute_result"
    }
   ],
   "source": [
    "from dotenv import load_dotenv\n",
    "\n",
    "load_dotenv()"
   ]
  },
  {
   "cell_type": "markdown",
   "id": "ed4e18df",
   "metadata": {},
   "source": [
    "### Chain을 이용한 Simple LLM\n",
    "Prompt -> LLM -> OutputParser\n",
    "1. Prompt\n",
    "2. LLM\n",
    "3. OutputParser"
   ]
  },
  {
   "cell_type": "code",
   "execution_count": 2,
   "id": "f88e4ac8",
   "metadata": {},
   "outputs": [],
   "source": [
    "# 1. PromptTemplate\n",
    "from langchain import PromptTemplate\n",
    "\n",
    "template = \"{poketmon} 중 가장 강한게 뭐야?\"\n",
    "\n",
    "prompt = PromptTemplate(\n",
    "    template = template,\n",
    "    input_variables = ['poketmon']\n",
    ")\n"
   ]
  },
  {
   "cell_type": "code",
   "execution_count": 3,
   "id": "3641b5b8",
   "metadata": {},
   "outputs": [],
   "source": [
    "# 2. Model\n",
    "from langchain_openai import ChatOpenAI\n",
    "\n",
    "model = ChatOpenAI(\n",
    "    model_name = 'gpt-4o',\n",
    "    temperature = 0.3\n",
    ")"
   ]
  },
  {
   "cell_type": "code",
   "execution_count": 4,
   "id": "cb492c96",
   "metadata": {},
   "outputs": [],
   "source": [
    "# 3. OutputParser (StrOutputParser - langchain_core.output_parser)\n",
    "\n",
    "from langchain_core.output_parsers import StrOutputParser\n",
    "\n",
    "output_parser = StrOutputParser()"
   ]
  },
  {
   "cell_type": "code",
   "execution_count": 6,
   "id": "264c44df",
   "metadata": {},
   "outputs": [
    {
     "data": {
      "text/plain": [
       "'포켓몬 시리즈에서 가장 강한 포켓몬을 하나로 꼽기는 어렵습니다. 왜냐하면 \"강함\"의 기준은 여러 가지 요소에 따라 다를 수 있기 때문입니다. 예를 들어, 전설의 포켓몬이나 환상의 포켓몬은 일반적으로 높은 능력치를 가지고 있어 강력한 것으로 평가됩니다. \\n\\n몇 가지 예를 들면:\\n\\n1. **아르세우스**: 포켓몬 세계의 창조신으로 불리며, 모든 타입으로 변할 수 있는 능력을 가지고 있습니다.\\n2. **뮤츠**: 높은 특수 공격력과 속도를 자랑하는 전설의 포켓몬입니다.\\n3. **레쿠쟈**: 메가 진화를 통해 매우 강력한 능력치를 가질 수 있습니다.\\n\\n이 외에도 게임의 메타, 전략, 플레이어의 스타일에 따라 강력하다고 평가될 수 있는 포켓몬은 다양합니다. 배틀 환경이나 특정 규칙에 따라 어떤 포켓몬이 더 유리할 수 있는지도 고려해야 합니다.'"
      ]
     },
     "execution_count": 6,
     "metadata": {},
     "output_type": "execute_result"
    }
   ],
   "source": [
    "# 4. Chain -> 질의\n",
    "# question : 어떤 포켓몬이 가장 강해?\n",
    "\n",
    "\n",
    "chain = prompt | model | output_parser\n",
    "chain.invoke('포켓몬')\n",
    "# chain.invoke({'question' : '어떤 포켓몬이 가장 강해?'})"
   ]
  }
 ],
 "metadata": {
  "kernelspec": {
   "display_name": "pystudy_env",
   "language": "python",
   "name": "python3"
  },
  "language_info": {
   "codemirror_mode": {
    "name": "ipython",
    "version": 3
   },
   "file_extension": ".py",
   "mimetype": "text/x-python",
   "name": "python",
   "nbconvert_exporter": "python",
   "pygments_lexer": "ipython3",
   "version": "3.12.11"
  }
 },
 "nbformat": 4,
 "nbformat_minor": 5
}
